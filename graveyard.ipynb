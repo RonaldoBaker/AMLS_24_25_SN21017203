{
 "cells": [
  {
   "cell_type": "markdown",
   "metadata": {},
   "source": [
    "### Code to see the output of each conv2d and maxpool2d layers"
   ]
  },
  {
   "cell_type": "code",
   "execution_count": null,
   "metadata": {
    "vscode": {
     "languageId": "plaintext"
    }
   },
   "outputs": [],
   "source": [
    "    import torch.nn as nn\n",
    "    initial_data = torch.randn(10, 1, 28, 28)\n",
    "    conv1 = nn.Conv2d(1, 3, kernel_size=2, stride=2)\n",
    "    data = conv1(initial_data)\n",
    "    print(data.shape)\n",
    "\n",
    "    pool = nn.MaxPool2d(2, 2)\n",
    "    data = pool(data)\n",
    "    print(data.shape)\n",
    "\n",
    "    conv2 = nn.Conv2d(3, 16, kernel_size=2, stride=2)\n",
    "    data = conv2(data)\n",
    "    print(data.shape)\n",
    "\n",
    "    data = pool(data)\n",
    "    print(data.shape)"
   ]
  }
 ],
 "metadata": {
  "language_info": {
   "name": "python"
  }
 },
 "nbformat": 4,
 "nbformat_minor": 2
}
